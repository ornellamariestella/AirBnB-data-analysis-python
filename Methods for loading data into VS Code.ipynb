{
 "cells": [
  {
   "cell_type": "markdown",
   "metadata": {},
   "source": [
    "Methods for loading data into a dataframe in VS Code using Python"
   ]
  },
  {
   "cell_type": "code",
   "execution_count": null,
   "metadata": {},
   "outputs": [],
   "source": [
    "# Load from CSV file: \n",
    "\n",
    "import pandas as pd\n",
    "df = pd.read_csv('file.csv')\n",
    "\n",
    "# Load from Excel file: \n",
    "\n",
    "import pandas as pd\n",
    "df = pd.read_excel('file.xlsx')\n",
    "\n",
    "# Load from JSON file\n",
    "\n",
    "import pandas as pd\n",
    "df = pd.read_json('file.json')\n",
    "\n",
    "# Load from SQL database\n",
    "\n",
    "import pandas as pd\n",
    "import sqlite3\n",
    "conn = sqlite3.connect('database.db')\n",
    "df = pd.read_sql_query(\"SELECT * FROM table_name\", conn)\n",
    "\n",
    "# Load from API:\n",
    "\n",
    "# First, you need to make an HTTP request to the API endpoint to fetch the data. You can use the requests library for this purpose.\n",
    "# Once you receive the response from the API, you'll typically get data in JSON format.\n",
    "# Then, you can convert the JSON data into a pandas dataframe.\n",
    "\n",
    "import requests\n",
    "import pandas as pd\n",
    "\n",
    "# Define the API endpoint URL\n",
    "url = 'https://api.example.com/data'\n",
    "\n",
    "try:\n",
    "    # Make a GET request to the API\n",
    "    response = requests.get(url)\n",
    "\n",
    "    # Check if the request was successful (status code 200)\n",
    "    if response.status_code == 200:\n",
    "        # Parse the JSON response\n",
    "        data = response.json()\n",
    "        \n",
    "        # Convert the JSON data to a pandas dataframe\n",
    "        df = pd.DataFrame(data)\n",
    "        \n",
    "        # Display the dataframe\n",
    "        print(df)\n",
    "    else:\n",
    "        # Print an error message if the request was unsuccessful\n",
    "        print(\"Error: Unable to fetch data from the API.\")\n",
    "except Exception as e:\n",
    "    # Handle any exceptions that occur during the process\n",
    "    print(f\"An error occurred: {str(e)}\")\n",
    "\n",
    "# Load from URL:\n",
    "python\n",
    "Copia codice\n",
    "import pandas as pd\n",
    "url = 'https://example.com/data.csv'\n",
    "df = pd.read_csv(url)"
   ]
  }
 ],
 "metadata": {
  "language_info": {
   "name": "python"
  }
 },
 "nbformat": 4,
 "nbformat_minor": 2
}
